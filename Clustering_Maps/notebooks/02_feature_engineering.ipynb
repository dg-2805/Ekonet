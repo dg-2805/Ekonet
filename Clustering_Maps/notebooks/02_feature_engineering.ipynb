{
 "cells": [
  {
   "cell_type": "code",
   "execution_count": 1,
   "id": "4206d8e0-9a0f-4dde-a84f-328a8e52b984",
   "metadata": {},
   "outputs": [],
   "source": [
    "# 1. Import libraries\n",
    "import pandas as pd\n",
    "from sklearn.preprocessing import LabelEncoder, StandardScaler"
   ]
  },
  {
   "cell_type": "code",
   "execution_count": 2,
   "id": "c3fc7c6e-38cf-4351-be9c-f0cbc131e8cf",
   "metadata": {},
   "outputs": [
    {
     "name": "stdout",
     "output_type": "stream",
     "text": [
      "Dataset loaded successfully!\n"
     ]
    },
    {
     "data": {
      "text/html": [
       "<div>\n",
       "<style scoped>\n",
       "    .dataframe tbody tr th:only-of-type {\n",
       "        vertical-align: middle;\n",
       "    }\n",
       "\n",
       "    .dataframe tbody tr th {\n",
       "        vertical-align: top;\n",
       "    }\n",
       "\n",
       "    .dataframe thead th {\n",
       "        text-align: right;\n",
       "    }\n",
       "</style>\n",
       "<table border=\"1\" class=\"dataframe\">\n",
       "  <thead>\n",
       "    <tr style=\"text-align: right;\">\n",
       "      <th></th>\n",
       "      <th>State</th>\n",
       "      <th>Month</th>\n",
       "      <th>Year</th>\n",
       "      <th>Incident</th>\n",
       "      <th>Animal</th>\n",
       "    </tr>\n",
       "  </thead>\n",
       "  <tbody>\n",
       "    <tr>\n",
       "      <th>0</th>\n",
       "      <td>Karnataka</td>\n",
       "      <td>10</td>\n",
       "      <td>2020</td>\n",
       "      <td>Trap/Accident</td>\n",
       "      <td>Elephant</td>\n",
       "    </tr>\n",
       "    <tr>\n",
       "      <th>1</th>\n",
       "      <td>Maharashtra</td>\n",
       "      <td>4</td>\n",
       "      <td>2020</td>\n",
       "      <td>Conflict with humans</td>\n",
       "      <td>Bear</td>\n",
       "    </tr>\n",
       "    <tr>\n",
       "      <th>2</th>\n",
       "      <td>Rajasthan</td>\n",
       "      <td>8</td>\n",
       "      <td>2019</td>\n",
       "      <td>Trap/Accident</td>\n",
       "      <td>Snake</td>\n",
       "    </tr>\n",
       "    <tr>\n",
       "      <th>3</th>\n",
       "      <td>Uttar Pradesh</td>\n",
       "      <td>8</td>\n",
       "      <td>2018</td>\n",
       "      <td>Trap/Accident</td>\n",
       "      <td>Rhino</td>\n",
       "    </tr>\n",
       "    <tr>\n",
       "      <th>4</th>\n",
       "      <td>Uttar Pradesh</td>\n",
       "      <td>11</td>\n",
       "      <td>2022</td>\n",
       "      <td>Illegal trade</td>\n",
       "      <td>Monkey</td>\n",
       "    </tr>\n",
       "  </tbody>\n",
       "</table>\n",
       "</div>"
      ],
      "text/plain": [
       "           State  Month  Year              Incident    Animal\n",
       "0      Karnataka     10  2020         Trap/Accident  Elephant\n",
       "1    Maharashtra      4  2020  Conflict with humans      Bear\n",
       "2      Rajasthan      8  2019         Trap/Accident     Snake\n",
       "3  Uttar Pradesh      8  2018         Trap/Accident     Rhino\n",
       "4  Uttar Pradesh     11  2022         Illegal trade    Monkey"
      ]
     },
     "execution_count": 2,
     "metadata": {},
     "output_type": "execute_result"
    }
   ],
   "source": [
    "# 2. Load the dataset\n",
    "df = pd.read_csv(\"../data/wildlife_mock.csv\")\n",
    "print(\"Dataset loaded successfully!\")\n",
    "df.head()"
   ]
  },
  {
   "cell_type": "code",
   "execution_count": 3,
   "id": "8d610c82-f223-478e-ac91-327fb62dd344",
   "metadata": {},
   "outputs": [
    {
     "name": "stdout",
     "output_type": "stream",
     "text": [
      "\n",
      "Encoded columns added: State_encoded, Incident_encoded, Animal_encoded\n"
     ]
    }
   ],
   "source": [
    "# 3. Encode categorical features for ML/clustering\n",
    "le_state = LabelEncoder()\n",
    "le_incident = LabelEncoder()\n",
    "le_animal = LabelEncoder()\n",
    "\n",
    "df['State_encoded'] = le_state.fit_transform(df['State'])\n",
    "df['Incident_encoded'] = le_incident.fit_transform(df['Incident'])\n",
    "df['Animal_encoded'] = le_animal.fit_transform(df['Animal'])\n",
    "\n",
    "print(\"\\nEncoded columns added: State_encoded, Incident_encoded, Animal_encoded\")"
   ]
  },
  {
   "cell_type": "code",
   "execution_count": 4,
   "id": "62d42f41-08ff-45a4-bd2c-c6d1b45b72cb",
   "metadata": {},
   "outputs": [],
   "source": [
    "# 4. Optional: Create time-based features\n",
    "# Example: Quarter of the year\n",
    "df['Quarter'] = ((df['Month'] - 1) // 3) + 1\n",
    "\n",
    "# Example: Season (Northern India)\n",
    "def get_season(month):\n",
    "    if month in [12, 1, 2]:\n",
    "        return 'Winter'\n",
    "    elif month in [3, 4, 5]:\n",
    "        return 'Spring'\n",
    "    elif month in [6, 7, 8]:\n",
    "        return 'Monsoon'\n",
    "    else:\n",
    "        return 'Autumn'\n",
    "\n",
    "df['Season'] = df['Month'].apply(get_season)\n",
    "df['Season_encoded'] = LabelEncoder().fit_transform(df['Season'])"
   ]
  },
  {
   "cell_type": "code",
   "execution_count": 5,
   "id": "fdc085f8-d9b0-420d-8bc3-0667a4c8ba03",
   "metadata": {},
   "outputs": [],
   "source": [
    "# 5. Scaling numeric features for clustering\n",
    "scaler = StandardScaler()\n",
    "df[['Year_scaled', 'Month_scaled']] = scaler.fit_transform(df[['Year', 'Month']])"
   ]
  },
  {
   "cell_type": "code",
   "execution_count": 6,
   "id": "bf554672-af50-422a-afd3-a6048544436d",
   "metadata": {},
   "outputs": [
    {
     "name": "stdout",
     "output_type": "stream",
     "text": [
      "Processed dataset saved as 'wildlife_processed.csv' in data/processed/\n"
     ]
    }
   ],
   "source": [
    "# 6. Save processed dataset\n",
    "df.to_csv(\"../data/processed/wildlife_processed.csv\", index=False)\n",
    "print(\"Processed dataset saved as 'wildlife_processed.csv' in data/processed/\")"
   ]
  },
  {
   "cell_type": "code",
   "execution_count": null,
   "id": "cfe7eea5-9f83-4ea5-8806-3195e2d67d79",
   "metadata": {},
   "outputs": [],
   "source": []
  }
 ],
 "metadata": {
  "kernelspec": {
   "display_name": "Python (tf-venv)",
   "language": "python",
   "name": "tf-venv"
  },
  "language_info": {
   "codemirror_mode": {
    "name": "ipython",
    "version": 3
   },
   "file_extension": ".py",
   "mimetype": "text/x-python",
   "name": "python",
   "nbconvert_exporter": "python",
   "pygments_lexer": "ipython3",
   "version": "3.10.18"
  }
 },
 "nbformat": 4,
 "nbformat_minor": 5
}
